{
 "cells": [
  {
   "cell_type": "markdown",
   "metadata": {},
   "source": [
    "Download the models from here :\n",
    "https://huggingface.co/TheBloke/Llama-2-7B-Chat-GGUF"
   ]
  },
  {
   "cell_type": "code",
   "execution_count": 10,
   "metadata": {},
   "outputs": [
    {
     "name": "stdout",
     "output_type": "stream",
     "text": [
      "The history saving thread hit an unexpected error (OperationalError('database or disk is full')).History will not be written to the database.\n"
     ]
    }
   ],
   "source": [
    "from langchain_community.llms import LlamaCpp\n",
    "from langchain.prompts import PromptTemplate\n",
    "from langchain.chains import LLMChain"
   ]
  },
  {
   "cell_type": "code",
   "execution_count": 11,
   "metadata": {},
   "outputs": [
    {
     "name": "stdout",
     "output_type": "stream",
     "text": [
      "\u001b[1mLlamaCpp\u001b[0m\n",
      "Params: {'model_path': 'models/llama-2-7b-chat.Q2_K.gguf', 'suffix': None, 'max_tokens': 256, 'temperature': 0.8, 'top_p': 0.95, 'logprobs': None, 'echo': False, 'stop_sequences': [], 'repeat_penalty': 1.1, 'top_k': 40}\n"
     ]
    }
   ],
   "source": [
    "# Load the LlamaCpp language model, adjust GPU usage based on your hardware\n",
    "llm = LlamaCpp(\n",
    "    model_path=\"models/llama-2-7b-chat.Q2_K.gguf\",\n",
    "    n_gpu_layers=40,\n",
    "    n_batch=512,  # Batch size for model processing\n",
    "    verbose=False,  # Enable detailed logging for debugging\n",
    ")\n",
    "print(llm)"
   ]
  },
  {
   "cell_type": "code",
   "execution_count": 12,
   "metadata": {},
   "outputs": [
    {
     "name": "stdout",
     "output_type": "stream",
     "text": [
      "input_variables=['question'] template='\\nQuestion: {question}\\n\\nAnswer:\\n'\n"
     ]
    }
   ],
   "source": [
    "# Define the prompt template with a placeholder for the question\n",
    "template = \"\"\"\n",
    "Question: {question}\n",
    "\n",
    "Answer:\n",
    "\"\"\"\n",
    "prompt = PromptTemplate(template=template, input_variables=[\"question\"])\n",
    "print(prompt)"
   ]
  },
  {
   "cell_type": "code",
   "execution_count": 13,
   "metadata": {},
   "outputs": [
    {
     "name": "stdout",
     "output_type": "stream",
     "text": [
      "prompt=PromptTemplate(input_variables=['question'], template='\\nQuestion: {question}\\n\\nAnswer:\\n') llm=LlamaCpp(verbose=False, client=<llama_cpp.llama.Llama object at 0x0000014AD7EEFAA0>, model_path='models/llama-2-7b-chat.Q2_K.gguf', n_batch=512, n_gpu_layers=40)\n",
      "Chatbot initialized, ready to chat...\n"
     ]
    }
   ],
   "source": [
    "# Create an LLMChain to manage interactions with the prompt and model\n",
    "llm_chain = LLMChain(prompt=prompt, llm=llm)\n",
    "print(llm_chain)\n",
    "print(\"Chatbot initialized, ready to chat...\")"
   ]
  },
  {
   "cell_type": "code",
   "execution_count": 15,
   "metadata": {},
   "outputs": [
    {
     "name": "stdout",
     "output_type": "stream",
     "text": [
      "Q- Hi, who are you?\n",
      "A- I am LLaMA, an AI assistant developed by Meta AI. I'm here to help you with any questions or tasks you may have! How can I assist you today?\n"
     ]
    }
   ],
   "source": [
    "while True:\n",
    "    question = input(\"> \")\n",
    "    if question == \"exit\":\n",
    "        break\n",
    "    else:\n",
    "        print(\"Q-\", question)\n",
    "        answer = llm_chain.run(question)\n",
    "        print(\"A-\", answer)"
   ]
  },
  {
   "cell_type": "code",
   "execution_count": null,
   "metadata": {},
   "outputs": [],
   "source": []
  }
 ],
 "metadata": {
  "kernelspec": {
   "display_name": ".venv",
   "language": "python",
   "name": "python3"
  },
  "language_info": {
   "codemirror_mode": {
    "name": "ipython",
    "version": 3
   },
   "file_extension": ".py",
   "mimetype": "text/x-python",
   "name": "python",
   "nbconvert_exporter": "python",
   "pygments_lexer": "ipython3",
   "version": "3.12.2"
  }
 },
 "nbformat": 4,
 "nbformat_minor": 2
}
